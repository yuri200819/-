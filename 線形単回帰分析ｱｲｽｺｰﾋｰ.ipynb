{
  "nbformat": 4,
  "nbformat_minor": 0,
  "metadata": {
    "colab": {
      "name": "線形単回帰分析ｱｲｽｺｰﾋｰ.ipynb",
      "provenance": [],
      "collapsed_sections": [],
      "authorship_tag": "ABX9TyPaW2E9diG1xK14gqD2OcIB",
      "include_colab_link": true
    },
    "kernelspec": {
      "name": "python3",
      "display_name": "Python 3"
    }
  },
  "cells": [
    {
      "cell_type": "markdown",
      "metadata": {
        "id": "view-in-github",
        "colab_type": "text"
      },
      "source": [
        "<a href=\"https://colab.research.google.com/github/yuri200819/-/blob/main/%E7%B7%9A%E5%BD%A2%E5%8D%98%E5%9B%9E%E5%B8%B0%E5%88%86%E6%9E%90%EF%BD%B1%EF%BD%B2%EF%BD%BD%EF%BD%BA%EF%BD%B0%EF%BE%8B%EF%BD%B0.ipynb\" target=\"_parent\"><img src=\"https://colab.research.google.com/assets/colab-badge.svg\" alt=\"Open In Colab\"/></a>"
      ]
    },
    {
      "cell_type": "code",
      "metadata": {
        "id": "dXhQy3_sy2nk",
        "colab": {
          "base_uri": "https://localhost:8080/",
          "height": 204
        },
        "outputId": "bfaf95c3-54b2-4e8f-b7f2-3ad8d059882b"
      },
      "source": [
        "#練習問題[喫茶店の売上データに対する線形単回帰分析]\n",
        "#喫茶店のアイスコーヒーの売り上げとその日の最高気温についてのデータ\n",
        "#icecoffee.csvをDataFrame形式で読み込みなさい\n",
        "#head関数を用いて読み込んだデータを表示しなさい\n",
        "import numpy as np\n",
        "import pandas as pd\n",
        "import matplotlib. pyplot as plt\n",
        "import matplotlib.style\n",
        "matplotlib.style.use(\"ggplot\")\n",
        "icecoffee_df = pd.read_csv(\"icecoffee.csv\")\n",
        "icecoffee_df.head()"
      ],
      "execution_count": null,
      "outputs": [
        {
          "output_type": "execute_result",
          "data": {
            "text/html": [
              "<div>\n",
              "<style scoped>\n",
              "    .dataframe tbody tr th:only-of-type {\n",
              "        vertical-align: middle;\n",
              "    }\n",
              "\n",
              "    .dataframe tbody tr th {\n",
              "        vertical-align: top;\n",
              "    }\n",
              "\n",
              "    .dataframe thead th {\n",
              "        text-align: right;\n",
              "    }\n",
              "</style>\n",
              "<table border=\"1\" class=\"dataframe\">\n",
              "  <thead>\n",
              "    <tr style=\"text-align: right;\">\n",
              "      <th></th>\n",
              "      <th>Unnamed: 0</th>\n",
              "      <th>temperature</th>\n",
              "      <th>icecoffee</th>\n",
              "    </tr>\n",
              "  </thead>\n",
              "  <tbody>\n",
              "    <tr>\n",
              "      <th>0</th>\n",
              "      <td>2020/7/1</td>\n",
              "      <td>30</td>\n",
              "      <td>76</td>\n",
              "    </tr>\n",
              "    <tr>\n",
              "      <th>1</th>\n",
              "      <td>2020/7/2</td>\n",
              "      <td>28</td>\n",
              "      <td>61</td>\n",
              "    </tr>\n",
              "    <tr>\n",
              "      <th>2</th>\n",
              "      <td>2020/7/3</td>\n",
              "      <td>33</td>\n",
              "      <td>92</td>\n",
              "    </tr>\n",
              "    <tr>\n",
              "      <th>3</th>\n",
              "      <td>2020/7/4</td>\n",
              "      <td>31</td>\n",
              "      <td>84</td>\n",
              "    </tr>\n",
              "    <tr>\n",
              "      <th>4</th>\n",
              "      <td>2020/7/5</td>\n",
              "      <td>25</td>\n",
              "      <td>59</td>\n",
              "    </tr>\n",
              "  </tbody>\n",
              "</table>\n",
              "</div>"
            ],
            "text/plain": [
              "  Unnamed: 0  temperature  icecoffee\n",
              "0   2020/7/1           30         76\n",
              "1   2020/7/2           28         61\n",
              "2   2020/7/3           33         92\n",
              "3   2020/7/4           31         84\n",
              "4   2020/7/5           25         59"
            ]
          },
          "metadata": {
            "tags": []
          },
          "execution_count": 4
        }
      ]
    },
    {
      "cell_type": "code",
      "metadata": {
        "id": "MgrjTrPSzhcU",
        "colab": {
          "base_uri": "https://localhost:8080/",
          "height": 299
        },
        "outputId": "da5bcda6-031e-44dd-efc9-6e41797ab090"
      },
      "source": [
        "#データを散布図で可視化し、回帰直線を引く意味があるか考察しなさい\n",
        "plt.scatter(icecoffee_df[\"temperature\"],\n",
        "            icecoffee_df[\"icecoffee\"])\n",
        "plt.title(\"Scatter Plot of temperature vs icecoffee\")\n",
        "plt.xlabel(\"[temperature]\")\n",
        "plt.ylabel(\"[icecoffee]\")\n",
        "plt.grid()\n",
        "plt.show()"
      ],
      "execution_count": null,
      "outputs": [
        {
          "output_type": "display_data",
          "data": {
            "image/png": "[encoded data removed]",
            "text/plain": [
              "<Figure size 432x288 with 1 Axes>"
            ]
          },
          "metadata": {
            "tags": []
          }
        }
      ]
    },
    {
      "cell_type": "code",
      "metadata": {
        "id": "jFa42AyM2Fa3",
        "colab": {
          "base_uri": "https://localhost:8080/"
        },
        "outputId": "4a2d8838-0877-431d-dadf-13db9363217e"
      },
      "source": [
        "#データの相関係数を確認しなさい\n",
        "print(icecoffee_df[[\"temperature\",\"icecoffee\"]].corr())\n",
        "#0.9と、1に近い為非常に強い相関関係"
      ],
      "execution_count": null,
      "outputs": [
        {
          "output_type": "stream",
          "text": [
            "             temperature  icecoffee\n",
            "temperature     1.000000   0.925016\n",
            "icecoffee       0.925016   1.000000\n"
          ],
          "name": "stdout"
        }
      ]
    },
    {
      "cell_type": "code",
      "metadata": {
        "id": "nxPaNLOo2zxF",
        "colab": {
          "base_uri": "https://localhost:8080/"
        },
        "outputId": "318e873c-b031-42f8-f750-84cc194dbe90"
      },
      "source": [
        "#LinearRegressionライブラリを用いて回帰係数と切片を算出しなさい\n",
        "#データ数が少ないため、学習データと検証データの分類は実施しなくてよい\n",
        "from sklearn.linear_model import  LinearRegression\n",
        "lr = LinearRegression()\n",
        "X = icecoffee_df[[\"temperature\"]].values\n",
        "Y = icecoffee_df[[\"icecoffee\"]].values\n",
        "lr.fit(X, Y)\n",
        "\n",
        "print(\"temperature = \", lr.intercept_)\n",
        "print(\"icecoffee = \", lr.coef_[0])"
      ],
      "execution_count": null,
      "outputs": [
        {
          "output_type": "stream",
          "text": [
            "temperature =  [-45.58706468]\n",
            "icecoffee =  [4.02736318]\n"
          ],
          "name": "stdout"
        }
      ]
    },
    {
      "cell_type": "code",
      "metadata": {
        "id": "QbT__fX-4E8z",
        "colab": {
          "base_uri": "https://localhost:8080/",
          "height": 299
        },
        "outputId": "5d34df33-9044-4fcd-c031-e18d6efb3e9d"
      },
      "source": [
        "#matplotlibを用いてデータの散布図と回帰直線をグラフ化しなさい\n",
        "plt.scatter(X, Y, color = \"blue\")\n",
        "plt.plot(X, lr.predict(X), color = \"red\")\n",
        "plt.title(\"Regression Line\")\n",
        "plt.xlabel(\"temperature\")\n",
        "plt.ylabel(\"icecoffee\")\n",
        "plt.grid()\n",
        "plt.show()"
      ],
      "execution_count": null,
      "outputs": [
        {
          "output_type": "display_data",
          "data": {
            "image/png": "[encoded data removed]",
            "text/plain": [
              "<Figure size 432x288 with 1 Axes>"
            ]
          },
          "metadata": {
            "tags": []
          }
        }
      ]
    },
    {
      "cell_type": "code",
      "metadata": {
        "id": "FR1xyRAq4rBZ",
        "colab": {
          "base_uri": "https://localhost:8080/"
        },
        "outputId": "1ac148b6-259f-4ad2-f3fa-a996011977a2"
      },
      "source": [
        "#回帰分析から得られた回帰式を示しなさい▪𝑦 = 𝑎 + 𝑏𝑥\n",
        "#データに含まれる x の最大値は33\n",
        "#x=38の時の yの値 を予測\n",
        "#▪𝑦 = 𝑎 + 𝑏 × 38\n",
        "#=\n",
        "x_38 = np.array(38).reshape(-1,1)\n",
        "y_pred = lr.predict(x_38)\n",
        "print(y_pred[0])"
      ],
      "execution_count": null,
      "outputs": [
        {
          "output_type": "stream",
          "text": [
            "[112.2962963]\n"
          ],
          "name": "stdout"
        }
      ]
    },
    {
      "cell_type": "code",
      "metadata": {
        "id": "ifMuW2vp5rxD",
        "colab": {
          "base_uri": "https://localhost:8080/",
          "height": 232
        },
        "outputId": "894f7b68-c830-43f2-8ecd-14b05ea49210"
      },
      "source": [
        "#回帰式の精度を確認する\n",
        "#残差のばらつきを見る残差分析を実施しなさい\n",
        "y_pred = lr.predict(X)\n",
        "plt.scatter(y_pred, y_pred - y,\n",
        "            color = \"blue\")\n",
        "plt.hlines(y = 0, xmin = -10, xmax = 50,\n",
        "           color = \"black\")\n",
        "plt.title(\"Residual Plot\")\n",
        "plt.xlabel(\"Predicted Values\")\n",
        "plt.ylabel(\"Residuals\")\n",
        "plt.grid()\n",
        "plt.show()\n",
        "#aaaaaaaaaaaaaaaaaaaaaaaaaaaaaaaaaaaaaaaaaaaaaaaa"
      ],
      "execution_count": null,
      "outputs": [
        {
          "output_type": "error",
          "ename": "NameError",
          "evalue": "ignored",
          "traceback": [
            "\u001b[0;31m---------------------------------------------------------------------------\u001b[0m",
            "\u001b[0;31mNameError\u001b[0m                                 Traceback (most recent call last)",
            "\u001b[0;32m<ipython-input-29-fbcd9f4fe795>\u001b[0m in \u001b[0;36m<module>\u001b[0;34m()\u001b[0m\n\u001b[1;32m      2\u001b[0m \u001b[0;31m#残差のばらつきを見る残差分析を実施しなさい\u001b[0m\u001b[0;34m\u001b[0m\u001b[0;34m\u001b[0m\u001b[0;34m\u001b[0m\u001b[0m\n\u001b[1;32m      3\u001b[0m \u001b[0my_pred\u001b[0m \u001b[0;34m=\u001b[0m \u001b[0mlr\u001b[0m\u001b[0;34m.\u001b[0m\u001b[0mpredict\u001b[0m\u001b[0;34m(\u001b[0m\u001b[0mX\u001b[0m\u001b[0;34m)\u001b[0m\u001b[0;34m\u001b[0m\u001b[0;34m\u001b[0m\u001b[0m\n\u001b[0;32m----> 4\u001b[0;31m plt.scatter(y_pred, y_pred - y,\n\u001b[0m\u001b[1;32m      5\u001b[0m             color = \"blue\")\n\u001b[1;32m      6\u001b[0m plt.hlines(y = 0, xmin = -10, xmax = 50,\n",
            "\u001b[0;31mNameError\u001b[0m: name 'y' is not defined"
          ]
        }
      ]
    },
    {
      "cell_type": "code",
      "metadata": {
        "id": "h12vBiot6NSz",
        "colab": {
          "base_uri": "https://localhost:8080/"
        },
        "outputId": "d31def47-b19c-4caf-d172-8c69f667b4dc"
      },
      "source": [
        "from sklearn.metrics import  mean_squared_error\n",
        "#学習データに対する目的変数を予測\n",
        "Y_train_pred = lr.predict(X_train)\n",
        "#学習データを用いたときの平均二乗誤差を出力\n",
        "print(\"MSE train data:\",\n",
        "      mean_squared_error(Y_train, Y_train_pred))\n",
        "#検証データを用いたときの平均二乗誤差を出力\n",
        "print(\"MSE test data:\",\n",
        "      mean_squared_error(Y_test, Y_pred))"
      ],
      "execution_count": null,
      "outputs": [
        {
          "output_type": "stream",
          "text": [
            "MSE train data: 22.20370370370368\n",
            "MSE test data: 30.881207133059007\n"
          ],
          "name": "stdout"
        }
      ]
    },
    {
      "cell_type": "code",
      "metadata": {
        "id": "17TJGkX9EXSQ",
        "colab": {
          "base_uri": "https://localhost:8080/"
        },
        "outputId": "3d543e42-e936-4947-9fa0-7d2f380003fd"
      },
      "source": [
        "from sklearn.metrics import r2_score\n",
        "print(\"r^2 train data:\",r2_score(Y_train, Y_train_pred))\n",
        "print(\"r^2 test data:\",r2_score(Y_test, Y_pred))"
      ],
      "execution_count": null,
      "outputs": [
        {
          "output_type": "stream",
          "text": [
            "r^2 train data: 0.8517556874381802\n",
            "r^2 test data: 0.813789151392553\n"
          ],
          "name": "stdout"
        }
      ]
    },
    {
      "cell_type": "code",
      "metadata": {
        "id": "oPiVSyUKEXxX"
      },
      "source": [
        ""
      ],
      "execution_count": null,
      "outputs": []
    }
  ]
}